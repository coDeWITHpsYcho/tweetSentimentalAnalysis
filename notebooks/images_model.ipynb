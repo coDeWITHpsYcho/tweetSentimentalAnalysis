{
 "cells": [
  {
   "attachments": {},
   "cell_type": "markdown",
   "metadata": {},
   "source": [
    "# imports"
   ]
  },
  {
   "cell_type": "code",
   "execution_count": 2,
   "metadata": {},
   "outputs": [],
   "source": [
    "import torch\n",
    "import torch.nn as nn\n",
    "from torch.utils.data import Dataset, DataLoader, Subset\n",
    "from PIL import Image\n",
    "import pandas as pd\n",
    "import torchvision.transforms as transforms\n",
    "import numpy as np\n",
    "from sklearn.model_selection import train_test_split\n",
    "import os\n",
    "from matplotlib import pyplot as plt\n",
    "from sklearn.metrics import confusion_matrix, classification_report\n",
    "import seaborn as sns\n",
    "from torchviz import make_dot\n",
    "import pydot\n"
   ]
  },
  {
   "attachments": {},
   "cell_type": "markdown",
   "metadata": {},
   "source": [
    "# global vars"
   ]
  },
  {
   "cell_type": "code",
   "execution_count": 9,
   "metadata": {},
   "outputs": [
    {
     "name": "stdout",
     "output_type": "stream",
     "text": [
      "cuda:0\n"
     ]
    }
   ],
   "source": [
    "IMG_SHAPE = 48\n",
    "NUM_CLASSES = 3\n",
    "BATCH_SIZE = 1024\n",
    "TEXT_COL = \"text_emo\"\n",
    "IMAGE_COL = 'local_path'\n",
    "LABEL_COL = 'label'\n",
    "LABELS_PATH = \"C:/Users/MourtadaHouari/Desktop/sentiment-analysis/data/processed/train_images.csv\"\n",
    "IMAGES_PATH_PREFIX = \"C:/Users/MourtadaHouari/Desktop/sentiment-analysis/data/processed\"\n",
    "LR = 0.001\n",
    "DEVICE = torch.device('cuda:0' if torch.cuda.is_available() else 'cpu')\n",
    "print(DEVICE)\n",
    "torch.cuda.get_device_name(0)\n",
    "SAVE_DIR = \".\"\n",
    "EPOCHS=3"
   ]
  },
  {
   "attachments": {},
   "cell_type": "markdown",
   "metadata": {},
   "source": [
    "# functions"
   ]
  },
  {
   "cell_type": "code",
   "execution_count": 15,
   "metadata": {},
   "outputs": [],
   "source": [
    "dic = {0: \"negative\", 1: \"neutral\", 2: \"positive\"}\n",
    "\n",
    "def accuracy(outputs, labels):\n",
    "    _, preds = torch.max(outputs, dim=1)\n",
    "    return torch.tensor(torch.sum(preds == labels).item() / len(preds))\n",
    "\n",
    "transform = transforms.Compose([\n",
    "                        transforms.Resize((IMG_SHAPE, IMG_SHAPE)),\n",
    "                        transforms.ToTensor(),\n",
    "                        transforms.Normalize(mean=[0.485, 0.456, 0.406], std=[0.229, 0.224, 0.225])\n",
    "                    ])\n",
    "\n",
    "\n",
    "def train(model, train_loader, optimizer, criterion, device):\n",
    "    model.train()\n",
    "    running_loss = 0.0\n",
    "    running_acc = 0.0\n",
    "    for batch_idx, (image, label) in enumerate(train_loader):\n",
    "        image, label = image.to(device), label.to(device)\n",
    "\n",
    "        optimizer.zero_grad()\n",
    "        output = model(image)\n",
    "        loss = criterion(output, label)\n",
    "        acc = accuracy(output, label)\n",
    "\n",
    "        loss.backward()\n",
    "        optimizer.step()\n",
    "\n",
    "        running_loss += loss.item()\n",
    "        running_acc += acc.item()\n",
    "\n",
    "    return running_loss / len(train_loader), running_acc / len(train_loader)\n",
    "\n",
    "def predict(model, image, label=None):\n",
    "    model.eval()\n",
    "    with torch.no_grad():\n",
    "        image = image.to(DEVICE)\n",
    "        output = model(image)\n",
    "        result = torch.max(output, dim=1).indices[0].cpu().item()\n",
    "        print(\"predicted label:\", dic[result])\n",
    "        if label != None:\n",
    "            print(\"actual label:\", label)\n",
    "    return output\n",
    "\n",
    "def test(model, predict_loader, criterion, device):\n",
    "    model.eval()\n",
    "    running_loss = 0.0\n",
    "    running_acc = 0.0\n",
    "    predictions = []\n",
    "    true_labels = []\n",
    "\n",
    "    with torch.no_grad():\n",
    "        for batch_idx, (image, label) in enumerate(predict_loader):\n",
    "            image, label = image.to(device), label.to(device)\n",
    "\n",
    "            output = model(image)\n",
    "            loss = criterion(output, label)\n",
    "            acc = accuracy(output, label)\n",
    "\n",
    "            running_loss += loss.item()\n",
    "            running_acc += acc.item()\n",
    "\n",
    "            _, preds = torch.max(output, dim=1)\n",
    "            predictions.extend(preds.cpu().numpy())\n",
    "            true_labels.extend(label.cpu().numpy())\n",
    "\n",
    "    avg_loss = running_loss / len(predict_loader)\n",
    "    avg_acc = running_acc / len(predict_loader)\n",
    "\n",
    "    return avg_loss, avg_acc, predictions, true_labels\n",
    "\n",
    "\n",
    "def val(model, test_loader, criterion, device):\n",
    "    model.eval()\n",
    "    running_loss = 0.0\n",
    "    running_acc = 0.0\n",
    "    with torch.no_grad():\n",
    "        for batch_idx, (image, label) in enumerate(test_loader):\n",
    "            image, label = image.to(device), label.to(device)\n",
    "\n",
    "            output = model(image)\n",
    "            loss = criterion(output, label)\n",
    "            acc = accuracy(output, label)\n",
    "\n",
    "            running_loss += loss.item()\n",
    "            running_acc += acc.item()\n",
    "\n",
    "    return running_loss / len(test_loader), running_acc / len(test_loader)\n",
    "\n",
    "def save_model(model, save_dir, filename):\n",
    "    torch.save(model.state_dict(), os.path.join(save_dir, filename))"
   ]
  },
  {
   "attachments": {},
   "cell_type": "markdown",
   "metadata": {},
   "source": [
    "# model"
   ]
  },
  {
   "cell_type": "code",
   "execution_count": 10,
   "metadata": {},
   "outputs": [],
   "source": [
    "\n",
    "class ImageClassifier(nn.Module):\n",
    "    def __init__(self):\n",
    "        super(ImageClassifier, self).__init__()\n",
    "        self.conv1 = nn.Conv2d(3, 32, 5, padding=2)  # Increase filter size to 5x5\n",
    "        self.relu1 = nn.ReLU()\n",
    "        self.pool1 = nn.MaxPool2d(2, 2)\n",
    "        self.conv2 = nn.Conv2d(32, 64, 5, padding=2)  # Increase filter size to 5x5\n",
    "        self.relu2 = nn.ReLU()\n",
    "        self.pool2 = nn.MaxPool2d(2, 2)\n",
    "        self.conv3 = nn.Conv2d(64, 128, 3, padding=1)  # Keep the filter size at 3x3\n",
    "        self.relu3 = nn.ReLU()\n",
    "        self.pool3 = nn.MaxPool2d(2, 2)\n",
    "        self.conv4 = nn.Conv2d(128, 256, 3, padding=1)  # Keep the filter size at 3x3\n",
    "        self.relu4 = nn.ReLU()\n",
    "        self.pool4 = nn.MaxPool2d(2, 2)\n",
    "        self.flatten = nn.Flatten()\n",
    "        self.dropout1 = nn.Dropout(0.5)\n",
    "        self.fc1 = nn.Linear(256 * IMG_SHAPE//16 * IMG_SHAPE//16, 512)\n",
    "        self.relu5 = nn.ReLU()\n",
    "        self.dropout2 = nn.Dropout(0.5)\n",
    "        self.fc2 = nn.Linear(512, 3)\n",
    "        self.softmax = nn.Softmax(dim=1)\n",
    "\n",
    "    def forward(self, x):\n",
    "        x = self.conv1(x)\n",
    "        x = self.relu1(x)\n",
    "        x = self.pool1(x)\n",
    "        x = self.conv2(x)\n",
    "        x = self.relu2(x)\n",
    "        x = self.pool2(x)\n",
    "        x = self.conv3(x)\n",
    "        x = self.relu3(x)\n",
    "        x = self.pool3(x)\n",
    "        x = self.conv4(x)\n",
    "        x = self.relu4(x)\n",
    "        x = self.pool4(x)\n",
    "        x = self.flatten(x)\n",
    "        x = self.dropout1(x)\n",
    "        x = x.view(x.size(0), -1)  # Flatten the tensor\n",
    "        x = self.fc1(x)\n",
    "        x = self.relu5(x)\n",
    "        x = self.dropout2(x)\n",
    "        x = self.fc2(x)\n",
    "        x = self.softmax(x)\n",
    "        return x"
   ]
  },
  {
   "attachments": {},
   "cell_type": "markdown",
   "metadata": {},
   "source": [
    "# dataset"
   ]
  },
  {
   "cell_type": "code",
   "execution_count": 13,
   "metadata": {},
   "outputs": [],
   "source": [
    "class ImageDataset(Dataset):\n",
    "    def __init__(self, csv_path):\n",
    "        self.data = pd.read_csv(csv_path)\n",
    "        self.transform = transforms.Compose([\n",
    "                        transforms.Resize((IMG_SHAPE, IMG_SHAPE)),\n",
    "                        transforms.ToTensor(),\n",
    "                        transforms.Normalize(mean=[0.485, 0.456, 0.406], std=[0.229, 0.224, 0.225])\n",
    "                    ])\n",
    "\n",
    "    def __len__(self):\n",
    "        return len(self.data)\n",
    "    \n",
    "    def __getitem__(self, idx):\n",
    "        image_path = self.data.loc[idx, IMAGE_COL][1:]\n",
    "        image = Image.open(IMAGES_PATH_PREFIX+image_path).convert('RGB')\n",
    "        image = self.transform(image)\n",
    "\n",
    "        label = self.data.loc[idx, LABEL_COL]\n",
    "        return image, label"
   ]
  },
  {
   "attachments": {},
   "cell_type": "markdown",
   "metadata": {},
   "source": [
    "# init model"
   ]
  },
  {
   "cell_type": "code",
   "execution_count": 9,
   "metadata": {},
   "outputs": [
    {
     "data": {
      "text/plain": [
       "ImageClassifier(\n",
       "  (conv1): Conv2d(3, 32, kernel_size=(5, 5), stride=(1, 1), padding=(2, 2))\n",
       "  (relu1): ReLU()\n",
       "  (pool1): MaxPool2d(kernel_size=2, stride=2, padding=0, dilation=1, ceil_mode=False)\n",
       "  (conv2): Conv2d(32, 64, kernel_size=(5, 5), stride=(1, 1), padding=(2, 2))\n",
       "  (relu2): ReLU()\n",
       "  (pool2): MaxPool2d(kernel_size=2, stride=2, padding=0, dilation=1, ceil_mode=False)\n",
       "  (conv3): Conv2d(64, 128, kernel_size=(3, 3), stride=(1, 1), padding=(1, 1))\n",
       "  (relu3): ReLU()\n",
       "  (pool3): MaxPool2d(kernel_size=2, stride=2, padding=0, dilation=1, ceil_mode=False)\n",
       "  (conv4): Conv2d(128, 256, kernel_size=(3, 3), stride=(1, 1), padding=(1, 1))\n",
       "  (relu4): ReLU()\n",
       "  (pool4): MaxPool2d(kernel_size=2, stride=2, padding=0, dilation=1, ceil_mode=False)\n",
       "  (flatten): Flatten(start_dim=1, end_dim=-1)\n",
       "  (dropout1): Dropout(p=0.5, inplace=False)\n",
       "  (fc1): Linear(in_features=2304, out_features=512, bias=True)\n",
       "  (relu5): ReLU()\n",
       "  (dropout2): Dropout(p=0.5, inplace=False)\n",
       "  (fc2): Linear(in_features=512, out_features=3, bias=True)\n",
       "  (softmax): Softmax(dim=1)\n",
       ")"
      ]
     },
     "execution_count": 9,
     "metadata": {},
     "output_type": "execute_result"
    }
   ],
   "source": [
    "data = ImageDataset(LABELS_PATH)\n",
    "indices = np.arange(len(data))\n",
    "train_indices, test_indices = train_test_split(indices, test_size=0.2, random_state=42)\n",
    "\n",
    "\n",
    "train_data = Subset(data, train_indices)\n",
    "test_data = Subset(data, test_indices)\n",
    "\n",
    "\n",
    "train_loader = DataLoader(train_data, batch_size=BATCH_SIZE, shuffle=True, pin_memory=True)\n",
    "test_loader = DataLoader(test_data, batch_size=BATCH_SIZE, shuffle=False, pin_memory=True)\n",
    "\n",
    "model = ImageClassifier().to(DEVICE)\n",
    "\n",
    "criterion = nn.CrossEntropyLoss()\n",
    "optimizer = torch.optim.Adam(model.parameters(), lr=LR)\n",
    "model\n"
   ]
  },
  {
   "attachments": {},
   "cell_type": "markdown",
   "metadata": {},
   "source": [
    "# train"
   ]
  },
  {
   "cell_type": "code",
   "execution_count": 10,
   "metadata": {},
   "outputs": [
    {
     "name": "stdout",
     "output_type": "stream",
     "text": [
      "Epoch: 1/20, Train Loss: 1.0900, Train Acc: 0.4096, Val Loss: 1.0704, Val Acc: 0.4349\n",
      "New best model! Saving...\n",
      "Best val acc: 0.4349\n",
      "Epoch: 2/20, Train Loss: 1.0762, Train Acc: 0.4247, Val Loss: 1.0564, Val Acc: 0.4617\n",
      "New best model! Saving...\n",
      "Best val acc: 0.4617\n",
      "Epoch: 3/20, Train Loss: 1.0610, Train Acc: 0.4388, Val Loss: 1.0309, Val Acc: 0.4830\n",
      "New best model! Saving...\n",
      "Best val acc: 0.4830\n",
      "Epoch: 4/20, Train Loss: 1.0094, Train Acc: 0.5111, Val Loss: 0.9719, Val Acc: 0.5471\n",
      "New best model! Saving...\n",
      "Best val acc: 0.5471\n",
      "Epoch: 5/20, Train Loss: 0.9580, Train Acc: 0.5679, Val Loss: 0.9310, Val Acc: 0.6034\n",
      "New best model! Saving...\n",
      "Best val acc: 0.6034\n",
      "Epoch: 6/20, Train Loss: 0.9307, Train Acc: 0.6000, Val Loss: 0.9208, Val Acc: 0.6064\n",
      "New best model! Saving...\n",
      "Best val acc: 0.6064\n",
      "Epoch: 7/20, Train Loss: 0.9120, Train Acc: 0.6151, Val Loss: 0.9065, Val Acc: 0.6234\n",
      "New best model! Saving...\n",
      "Best val acc: 0.6234\n",
      "Epoch: 8/20, Train Loss: 0.8990, Train Acc: 0.6340, Val Loss: 0.8884, Val Acc: 0.6451\n",
      "New best model! Saving...\n",
      "Best val acc: 0.6451\n",
      "Epoch: 9/20, Train Loss: 0.8840, Train Acc: 0.6534, Val Loss: 0.8919, Val Acc: 0.6424\n",
      "Count: 1 of epochs have no improvement\n",
      "Epoch: 10/20, Train Loss: 0.8665, Train Acc: 0.6761, Val Loss: 0.8749, Val Acc: 0.6602\n",
      "New best model! Saving...\n",
      "Best val acc: 0.6602\n",
      "Epoch: 11/20, Train Loss: 0.8559, Train Acc: 0.6869, Val Loss: 0.8673, Val Acc: 0.6678\n",
      "New best model! Saving...\n",
      "Best val acc: 0.6678\n",
      "Epoch: 12/20, Train Loss: 0.8420, Train Acc: 0.6968, Val Loss: 0.8627, Val Acc: 0.6693\n",
      "New best model! Saving...\n",
      "Best val acc: 0.6693\n",
      "Epoch: 13/20, Train Loss: 0.8301, Train Acc: 0.7144, Val Loss: 0.8746, Val Acc: 0.6669\n",
      "Count: 1 of epochs have no improvement\n",
      "Epoch: 14/20, Train Loss: 0.8231, Train Acc: 0.7223, Val Loss: 0.8562, Val Acc: 0.6812\n",
      "New best model! Saving...\n",
      "Best val acc: 0.6812\n",
      "Epoch: 15/20, Train Loss: 0.8094, Train Acc: 0.7363, Val Loss: 0.8586, Val Acc: 0.6734\n",
      "Count: 1 of epochs have no improvement\n",
      "Epoch: 16/20, Train Loss: 0.8048, Train Acc: 0.7419, Val Loss: 0.8573, Val Acc: 0.6803\n",
      "Count: 2 of epochs have no improvement\n",
      "Epoch: 17/20, Train Loss: 0.8016, Train Acc: 0.7444, Val Loss: 0.8517, Val Acc: 0.6844\n",
      "New best model! Saving...\n",
      "Best val acc: 0.6844\n",
      "Epoch: 18/20, Train Loss: 0.7892, Train Acc: 0.7581, Val Loss: 0.8485, Val Acc: 0.6911\n",
      "New best model! Saving...\n",
      "Best val acc: 0.6911\n",
      "Epoch: 19/20, Train Loss: 0.7769, Train Acc: 0.7719, Val Loss: 0.8437, Val Acc: 0.6941\n",
      "New best model! Saving...\n",
      "Best val acc: 0.6941\n",
      "Epoch: 20/20, Train Loss: 0.7670, Train Acc: 0.7822, Val Loss: 0.8399, Val Acc: 0.6908\n",
      "Count: 1 of epochs have no improvement\n"
     ]
    }
   ],
   "source": [
    "best_val_acc = 0.0\n",
    "count = 0\n",
    "val_acc_list = []\n",
    "train_acc_list = []\n",
    "val_loss_list = []\n",
    "train_loss_list = []\n",
    "\n",
    "EPOCHS = 20\n",
    "for epoch in range(EPOCHS):\n",
    "    train_loss, train_acc = train(model, train_loader, optimizer, criterion, DEVICE)\n",
    "    val_loss, val_acc = val(model, test_loader, criterion, DEVICE)\n",
    "\n",
    "    train_acc_list.append(train_acc)\n",
    "    train_loss_list.append(train_loss)\n",
    "    val_acc_list.append(val_acc)\n",
    "    val_loss_list.append(val_loss)\n",
    "    \n",
    "    print(\n",
    "        f\"Epoch: {epoch+1}/{EPOCHS}, Train Loss: {train_loss:.4f}, Train Acc: {train_acc:.4f}, \"\n",
    "        f\"Val Loss: {val_loss:.4f}, Val Acc: {val_acc:.4f}\"\n",
    "    )\n",
    "    \n",
    "\n",
    "    if val_acc > best_val_acc:\n",
    "        print(f\"New best model! Saving...\")\n",
    "        save_model(model, SAVE_DIR, \"attention_best_model.pt\")\n",
    "        best_val_acc = val_acc\n",
    "        print(f\"Best val acc: {best_val_acc:.4f}\")\n",
    "        count = 0\n",
    "    else:\n",
    "        count += 1\n",
    "        print(f\"Count: {count} of epochs have no improvement\")\n",
    "        if count == 5:\n",
    "            print(f\"Early stopping, best val acc: {best_val_acc:.4f}\")\n",
    "            break\n"
   ]
  },
  {
   "attachments": {},
   "cell_type": "markdown",
   "metadata": {},
   "source": [
    "# learning rate"
   ]
  },
  {
   "cell_type": "code",
   "execution_count": 11,
   "metadata": {},
   "outputs": [
    {
     "data": {
      "image/png": "[encoded data removed]",
      "text/plain": [
       "<Figure size 1600x600 with 2 Axes>"
      ]
     },
     "metadata": {},
     "output_type": "display_data"
    }
   ],
   "source": [
    "fig, (axis1, axis2) = plt.subplots(nrows=1, ncols=2, figsize=(16,6))\n",
    "# summarize history for accuracy\n",
    "axis1.plot(train_acc_list, label='Train', linewidth=3)\n",
    "axis1.plot(val_acc_list, label='Validation', linewidth=3)\n",
    "axis1.set_title('Model accuracy', fontsize=16)\n",
    "axis1.set_ylabel('accuracy')\n",
    "axis1.set_xlabel('epoch')\n",
    "axis1.legend(loc='upper left')\n",
    "\n",
    "axis2.plot(train_loss_list, label='Train', linewidth=3)\n",
    "axis2.plot(val_loss_list, label='Validation', linewidth=3)\n",
    "axis2.set_title('Model loss', fontsize=16)\n",
    "axis2.set_ylabel('loss')\n",
    "axis2.set_xlabel('epoch')\n",
    "axis2.legend(loc='upper right')\n",
    "plt.show()"
   ]
  },
  {
   "attachments": {},
   "cell_type": "markdown",
   "metadata": {},
   "source": [
    "# predict"
   ]
  },
  {
   "cell_type": "code",
   "execution_count": 42,
   "metadata": {},
   "outputs": [
    {
     "name": "stdout",
     "output_type": "stream",
     "text": [
      "Image captured!\n",
      "predicted label: neutral\n",
      "actual label: \n",
      "Image captured!\n",
      "predicted label: neutral\n",
      "actual label: \n",
      "Image captured!\n",
      "predicted label: neutral\n",
      "actual label: \n",
      "Image captured!\n",
      "predicted label: neutral\n",
      "actual label: \n",
      "Image captured!\n",
      "predicted label: neutral\n",
      "actual label: \n",
      "Image captured!\n",
      "predicted label: positive\n",
      "actual label: \n",
      "Image captured!\n",
      "predicted label: negative\n",
      "actual label: \n",
      "Image captured!\n",
      "predicted label: neutral\n",
      "actual label: \n",
      "Image captured!\n",
      "predicted label: negative\n",
      "actual label: \n",
      "Image captured!\n",
      "predicted label: negative\n",
      "actual label: \n",
      "Image captured!\n",
      "predicted label: positive\n",
      "actual label: \n",
      "Image captured!\n",
      "predicted label: neutral\n",
      "actual label: \n",
      "Image captured!\n",
      "predicted label: neutral\n",
      "actual label: \n",
      "Image captured!\n",
      "predicted label: neutral\n",
      "actual label: \n",
      "Image captured!\n",
      "predicted label: neutral\n",
      "actual label: \n",
      "Image captured!\n",
      "predicted label: positive\n",
      "actual label: \n",
      "Image captured!\n",
      "predicted label: positive\n",
      "actual label: \n",
      "Image captured!\n",
      "predicted label: negative\n",
      "actual label: \n",
      "Image captured!\n",
      "predicted label: negative\n",
      "actual label: \n",
      "Image captured!\n",
      "predicted label: neutral\n",
      "actual label: \n",
      "Image captured!\n",
      "predicted label: neutral\n",
      "actual label: \n",
      "Image captured!\n",
      "predicted label: negative\n",
      "actual label: \n",
      "Image captured!\n",
      "predicted label: negative\n",
      "actual label: \n",
      "Image captured!\n",
      "predicted label: negative\n",
      "actual label: \n",
      "Image captured!\n",
      "predicted label: neutral\n",
      "actual label: \n",
      "Image captured!\n",
      "predicted label: negative\n",
      "actual label: \n",
      "Image captured!\n",
      "predicted label: negative\n",
      "actual label: \n",
      "Image captured!\n",
      "predicted label: negative\n",
      "actual label: \n"
     ]
    }
   ],
   "source": [
    "import cv2\n",
    "import torch\n",
    "\n",
    "# Initialize the camera\n",
    "camera = cv2.VideoCapture(0)\n",
    "\n",
    "while True:\n",
    "    # Read the current frame from the camera\n",
    "    ret, frame = camera.read()\n",
    "\n",
    "    # Display the frame\n",
    "    cv2.imshow(\"Camera\", frame)\n",
    "\n",
    "    # Check if the 'c' key is pressed\n",
    "    if cv2.waitKey(1) & 0xFF == ord('c'):\n",
    "        # Save the current frame as an image\n",
    "        cv2.imwrite(\"captured_image.jpg\", frame)\n",
    "        print(\"Image captured!\")\n",
    "\n",
    "        image = Image.open(\"captured_image.jpg\").convert('RGB')\n",
    "        image = transform(image).unsqueeze(0)\n",
    "        text = \"its fucked\"\n",
    "\n",
    "        predict(model, image, \"\")\n",
    "\n",
    "\n",
    "\n",
    "    # Check if the 'q' key is pressed to exit the loopq\n",
    "    if cv2.waitKey(1) & 0xFF == ord('q'):\n",
    "        break\n",
    "\n",
    "# Release the camera and close the window\n",
    "camera.release()\n",
    "cv2.destroyAllWindows()\n"
   ]
  },
  {
   "attachments": {},
   "cell_type": "markdown",
   "metadata": {},
   "source": [
    "# test"
   ]
  },
  {
   "cell_type": "code",
   "execution_count": 31,
   "metadata": {},
   "outputs": [
    {
     "name": "stdout",
     "output_type": "stream",
     "text": [
      "Test Acc: 0.7056\n",
      "              precision    recall  f1-score   support\n",
      "\n",
      "    negative       0.60      0.69      0.64       781\n",
      "     neutral       0.59      0.62      0.61       722\n",
      "    positive       0.89      0.77      0.82      1140\n",
      "\n",
      "    accuracy                           0.70      2643\n",
      "   macro avg       0.69      0.69      0.69      2643\n",
      "weighted avg       0.72      0.70      0.71      2643\n",
      "\n"
     ]
    },
    {
     "data": {
      "text/plain": [
       "Text(0.5, 1.0, 'The Confusion Martrix of Image model')"
      ]
     },
     "execution_count": 31,
     "metadata": {},
     "output_type": "execute_result"
    },
    {
     "data": {
      "image/png": "[encoded data removed]",
      "text/plain": [
       "<Figure size 640x480 with 2 Axes>"
      ]
     },
     "metadata": {},
     "output_type": "display_data"
    }
   ],
   "source": [
    "\n",
    "\n",
    "test_loss, test_acc, predictions, true_labels = test(model, test_loader, criterion, DEVICE)\n",
    "\n",
    "print(f\"Test Acc: {test_acc:.4f}\")\n",
    "\n",
    "true_labels = [dic[i] for i in true_labels]\n",
    "predictions = [dic[i] for i in predictions]\n",
    "\n",
    "print(classification_report(true_labels,predictions))\n",
    "cm = confusion_matrix(true_labels,predictions)\n",
    "p = sns.heatmap(cm, annot=True, fmt=\"d\", cmap=\"Blues\" )\n",
    "plt.title('The Confusion Martrix of Image model')"
   ]
  },
  {
   "cell_type": "code",
   "execution_count": null,
   "metadata": {},
   "outputs": [],
   "source": []
  }
 ],
 "metadata": {
  "kernelspec": {
   "display_name": "tf",
   "language": "python",
   "name": "python3"
  },
  "language_info": {
   "codemirror_mode": {
    "name": "ipython",
    "version": 3
   },
   "file_extension": ".py",
   "mimetype": "text/x-python",
   "name": "python",
   "nbconvert_exporter": "python",
   "pygments_lexer": "ipython3",
   "version": "3.9.16"
  },
  "orig_nbformat": 4
 },
 "nbformat": 4,
 "nbformat_minor": 2
}
