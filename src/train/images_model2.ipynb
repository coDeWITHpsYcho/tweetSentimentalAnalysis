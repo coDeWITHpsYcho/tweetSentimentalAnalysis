{
 "cells": [
  {
   "cell_type": "code",
   "execution_count": 2,
   "metadata": {},
   "outputs": [
    {
     "ename": "ModuleNotFoundError",
     "evalue": "No module named 'models'",
     "output_type": "error",
     "traceback": [
      "\u001b[1;31m---------------------------------------------------------------------------\u001b[0m",
      "\u001b[1;31mModuleNotFoundError\u001b[0m                       Traceback (most recent call last)",
      "Cell \u001b[1;32mIn[2], line 2\u001b[0m\n\u001b[0;32m      1\u001b[0m \u001b[39mfrom\u001b[39;00m \u001b[39msklearn\u001b[39;00m\u001b[39m.\u001b[39;00m\u001b[39mmodel_selection\u001b[39;00m \u001b[39mimport\u001b[39;00m train_test_split\n\u001b[1;32m----> 2\u001b[0m \u001b[39mfrom\u001b[39;00m \u001b[39mmodels\u001b[39;00m \u001b[39mimport\u001b[39;00m ImageModel\n\u001b[0;32m      3\u001b[0m \u001b[39mfrom\u001b[39;00m \u001b[39mdataset_generators\u001b[39;00m \u001b[39mimport\u001b[39;00m ImageDataset\n\u001b[0;32m      4\u001b[0m \u001b[39mimport\u001b[39;00m \u001b[39mutils\u001b[39;00m \u001b[39mas\u001b[39;00m \u001b[39mut\u001b[39;00m\n",
      "\u001b[1;31mModuleNotFoundError\u001b[0m: No module named 'models'"
     ]
    }
   ],
   "source": [
    "from sklearn.model_selection import train_test_split\n",
    "from models import ImageModel\n",
    "from dataset_generators import ImageDataset\n",
    "import utils as ut\n",
    "import os\n",
    "import numpy as np\n",
    "from torch.utils.data import Subset, DataLoader\n",
    "from torchviz import make_dot\n",
    "import torch\n",
    "import torch.nn as nn\n",
    "import pandas as pd\n",
    "from torch.utils.data import Dataset\n",
    "import torchvision.transforms as transforms\n",
    "from PIL import Image\n",
    "import os"
   ]
  },
  {
   "cell_type": "code",
   "execution_count": null,
   "metadata": {},
   "outputs": [],
   "source": [
    "def label_to_emotion(label):\n",
    "    return {\n",
    "        0 : 'Surprise',\n",
    "        1 : 'Fear',\n",
    "        2 : 'Disgust',\n",
    "        3 : 'Happiness',\n",
    "        4 : 'Sadness',\n",
    "        5 : 'Anger',\n",
    "        6 : 'Neutral'\n",
    "    }[label]\n",
    "\n",
    "def get_emotion_by_id(emotion_id):\n",
    "    id_to_emotion = {\n",
    "            1 : 'Surprise',\n",
    "            2 : 'Fear',\n",
    "            3 : 'Disgust',\n",
    "            4 : 'Happiness',\n",
    "            5 : 'Sadness',\n",
    "            6 : 'Anger',\n",
    "            7 : 'Neutral'\n",
    "    }\n",
    "    return id_to_emotion[emotion_id]"
   ]
  },
  {
   "cell_type": "code",
   "execution_count": null,
   "metadata": {},
   "outputs": [],
   "source": []
  }
 ],
 "metadata": {
  "kernelspec": {
   "display_name": "tf",
   "language": "python",
   "name": "python3"
  },
  "language_info": {
   "codemirror_mode": {
    "name": "ipython",
    "version": 3
   },
   "file_extension": ".py",
   "mimetype": "text/x-python",
   "name": "python",
   "nbconvert_exporter": "python",
   "pygments_lexer": "ipython3",
   "version": "3.9.16"
  },
  "orig_nbformat": 4
 },
 "nbformat": 4,
 "nbformat_minor": 2
}
